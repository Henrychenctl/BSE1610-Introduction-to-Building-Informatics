{
 "cells": [
  {
   "cell_type": "code",
   "execution_count": null,
   "metadata": {},
   "outputs": [],
   "source": [
    "#创建一个list\n",
    "thislist = [\"apple\", \"banana\", \"cherry\"]\n",
    "list1 = [2,6,4,8,9]\n",
    "list2 = [23,71,4,7,2,1]\n",
    "print(thislist)"
   ]
  },
  {
   "cell_type": "code",
   "execution_count": null,
   "metadata": {},
   "outputs": [],
   "source": [
    "print(type(thislist))"
   ]
  },
  {
   "cell_type": "code",
   "execution_count": null,
   "metadata": {},
   "outputs": [],
   "source": [
    "#Concatenation 串联 (前一个list在前 后一个list在后)\n",
    "print(list1+list2)"
   ]
  },
  {
   "cell_type": "code",
   "execution_count": null,
   "metadata": {},
   "outputs": [],
   "source": [
    "#Repetition 重复 list*____ ____就是重复几次\n",
    "print(list1*2)"
   ]
  },
  {
   "cell_type": "code",
   "execution_count": null,
   "metadata": {},
   "outputs": [],
   "source": [
    "#Index\n",
    "print(list1[2])"
   ]
  },
  {
   "cell_type": "code",
   "execution_count": null,
   "metadata": {},
   "outputs": [],
   "source": [
    "#Slicing\n",
    "#[starting from:ending from]\n",
    "print(list2[-4:-2]) #-就是反着数 反着数是从-1开始！！！ 并且不舍去最后一位"
   ]
  },
  {
   "cell_type": "code",
   "execution_count": null,
   "metadata": {},
   "outputs": [],
   "source": [
    "#正这数舍去最后一位\n",
    "print(list1[1:3])"
   ]
  },
  {
   "cell_type": "code",
   "execution_count": null,
   "metadata": {},
   "outputs": [],
   "source": [
    "#length\n",
    "print(len(list2))"
   ]
  },
  {
   "cell_type": "code",
   "execution_count": null,
   "metadata": {},
   "outputs": [],
   "source": []
  },
  {
   "cell_type": "code",
   "execution_count": null,
   "metadata": {},
   "outputs": [],
   "source": []
  },
  {
   "cell_type": "code",
   "execution_count": null,
   "metadata": {},
   "outputs": [],
   "source": [
    "#append() 附加，填补 ！加在最后\n",
    "thislist.append(\"orange\")\n",
    "print(thislist)"
   ]
  },
  {
   "cell_type": "code",
   "execution_count": null,
   "metadata": {},
   "outputs": [],
   "source": [
    "#intsert() 插入 在（这里，）插入\n",
    "thislist.insert(1,\"orange\")\n",
    "print(thislist)"
   ]
  },
  {
   "cell_type": "code",
   "execution_count": null,
   "metadata": {},
   "outputs": [],
   "source": [
    "#extend() 扩展 在后面扩展\n",
    "thislist = [\"apple\", \"banana\", \"cherry\"]\n",
    "tropical = [\"mango\", \"kiwi\"]\n",
    "thislist.extend(tropical)\n",
    "print(thislist)"
   ]
  },
  {
   "cell_type": "code",
   "execution_count": null,
   "metadata": {},
   "outputs": [],
   "source": [
    "thislist = [\"apple\", \"banana\", \"cherry\"]\n",
    "other = (\"haha\", \"xixi\")\n",
    "thislist.extend(other)\n",
    "print(thislist)"
   ]
  },
  {
   "cell_type": "code",
   "execution_count": null,
   "metadata": {},
   "outputs": [],
   "source": [
    "#remove() 去除\n",
    "thislist = [\"apple\", \"banana\", \"cherry\"]\n",
    "thislist.remove(\"apple\")\n",
    "print(thislist)"
   ]
  },
  {
   "cell_type": "code",
   "execution_count": null,
   "metadata": {},
   "outputs": [],
   "source": [
    "#pop() ()其中的是消失的一项的index\n",
    "thislist = [\"apple\", \"banana\", \"cherry\"]\n",
    "thislist.pop(1)\n",
    "print(thislist)"
   ]
  },
  {
   "cell_type": "code",
   "execution_count": null,
   "metadata": {},
   "outputs": [],
   "source": [
    "#del []中是消失一项的index，但其前面的是list\n",
    "thislist = [\"apple\", \"banana\", \"cherry\"]\n",
    "del thislist[2]\n",
    "print(thislist)"
   ]
  },
  {
   "cell_type": "code",
   "execution_count": null,
   "metadata": {},
   "outputs": [],
   "source": [
    "thislist = [\"apple\", \"banana\", \"cherry\"]\n",
    "del thislist\n",
    "#直接将整个list删除"
   ]
  },
  {
   "cell_type": "code",
   "execution_count": null,
   "metadata": {},
   "outputs": [],
   "source": [
    "#clear() 将所有位都清除，但是list不会清除，list变成一个什么也没有的list\n",
    "thislist = [\"apple\", \"banana\", \"cherry\"]\n",
    "thislist.clear()\n",
    "print(thislist)"
   ]
  },
  {
   "cell_type": "code",
   "execution_count": null,
   "metadata": {},
   "outputs": [],
   "source": [
    "#创建一个tuple——元组\n",
    "thistuple = (\"apple\", \"banana\", \"cherry\")\n",
    "print(type(thistuple))"
   ]
  },
  {
   "cell_type": "code",
   "execution_count": null,
   "metadata": {},
   "outputs": [],
   "source": [
    "#tuple必须有两个元素\n",
    "thistuple = (\"apple\")\n",
    "print(type(thistuple))"
   ]
  },
  {
   "cell_type": "code",
   "execution_count": null,
   "metadata": {},
   "outputs": [],
   "source": [
    "thistuple = (\"apple\",) #即使逗号后无东西也算是一个元素 一个空的元素\n",
    "print(type(thistuple))"
   ]
  },
  {
   "cell_type": "code",
   "execution_count": null,
   "metadata": {},
   "outputs": [],
   "source": [
    "#update turple\n",
    "x = (\"apple\", \"banana\", \"cherry\")\n",
    "y = list(x) #转换成为list的语句\n",
    "y[1] = \"kiwi\"\n",
    "x = tuple(y)\n",
    "\n",
    "print(x)\n",
    "#如果要更改tuple 先转化为list 再转化回去"
   ]
  },
  {
   "cell_type": "code",
   "execution_count": null,
   "metadata": {},
   "outputs": [],
   "source": [
    "#unpacking tuple: 压缩\n",
    "fruit = (\"apple\", \"banana\", \"cherry\", \"kiwi\")\n",
    "(green, *yellow, red) = fruit #*剩下的 可以放在中间，那么就是中间的赋予*后的元素，其他的一对一\n",
    "\n",
    "print(green)\n",
    "print(yellow)\n",
    "print(red)"
   ]
  },
  {
   "cell_type": "code",
   "execution_count": null,
   "metadata": {},
   "outputs": [],
   "source": [
    "#Join and Multiple tuple:\n",
    "tuple1 = (\"a\", \"b\", \"c\")\n",
    "tuple2 = (1,2,3)\n",
    "tuple3 = tuple1+tuple2\n",
    "print(tuple3)"
   ]
  },
  {
   "cell_type": "code",
   "execution_count": null,
   "metadata": {},
   "outputs": [],
   "source": [
    "print(type(tuple3))"
   ]
  },
  {
   "cell_type": "code",
   "execution_count": null,
   "metadata": {},
   "outputs": [],
   "source": [
    "#重复两遍\n",
    "tuple1 = (\"a\", \"b\", \"c\")\n",
    "mytuple = tuple1*2\n",
    "print(mytuple)"
   ]
  },
  {
   "cell_type": "code",
   "execution_count": null,
   "metadata": {},
   "outputs": [],
   "source": [
    "#count\n",
    "tuple1.index()"
   ]
  },
  {
   "cell_type": "code",
   "execution_count": null,
   "metadata": {},
   "outputs": [],
   "source": [
    "#Sets\n",
    "thisset = {\"apple\", \"banana\", \"cherry\"}\n",
    "print(thisset)"
   ]
  },
  {
   "cell_type": "code",
   "execution_count": null,
   "metadata": {},
   "outputs": [],
   "source": [
    "thisset = set((\"apple\", \"banana\", \"cherry\")) #double bracket_两个括号\n",
    "print(thisset)"
   ]
  },
  {
   "cell_type": "code",
   "execution_count": null,
   "metadata": {},
   "outputs": [],
   "source": []
  },
  {
   "cell_type": "code",
   "execution_count": null,
   "metadata": {},
   "outputs": [],
   "source": []
  },
  {
   "cell_type": "code",
   "execution_count": null,
   "metadata": {},
   "outputs": [],
   "source": [
    "#dictionary\n",
    "thisdict = {\n",
    "    \"brand\":\"Ford\",\n",
    "    \"model\":\"Mustang\",#这个逗号需要\n",
    "    \"year\":1964\n",
    "}\n",
    "print(thisdict)"
   ]
  },
  {
   "cell_type": "code",
   "execution_count": null,
   "metadata": {},
   "outputs": [],
   "source": [
    "thisdict = dict(name = \"john\", age = 36, country = \"Norway\")\n",
    "print(thisdict)"
   ]
  },
  {
   "cell_type": "code",
   "execution_count": null,
   "metadata": {},
   "outputs": [],
   "source": [
    "#find item using key\n",
    "thisdict[\"name\"]"
   ]
  },
  {
   "cell_type": "code",
   "execution_count": null,
   "metadata": {},
   "outputs": [],
   "source": [
    "#find item using key\n",
    "x = thisdict.get(\"name\")\n",
    "print(x)"
   ]
  },
  {
   "cell_type": "code",
   "execution_count": null,
   "metadata": {},
   "outputs": [],
   "source": [
    "car= {\n",
    "    \"brand\":\"Ford\",\n",
    "    \"model\":\"Mustang\",#这个逗号需要\n",
    "    \"year\":1964\n",
    "}\n",
    "\n",
    "x = car.keys()#key就是标签\n",
    "print(x)"
   ]
  },
  {
   "cell_type": "code",
   "execution_count": null,
   "metadata": {},
   "outputs": [],
   "source": [
    "car[\"color\"] = \"white\"#在dic里面加一行的语句\n",
    "print(x)"
   ]
  },
  {
   "cell_type": "code",
   "execution_count": null,
   "metadata": {},
   "outputs": [],
   "source": [
    "print(car)"
   ]
  },
  {
   "cell_type": "code",
   "execution_count": null,
   "metadata": {},
   "outputs": [],
   "source": [
    "y = car.items()#将每一组都打出来\n",
    "print(y)"
   ]
  },
  {
   "cell_type": "code",
   "execution_count": null,
   "metadata": {},
   "outputs": [],
   "source": [
    "#value\n",
    "#替换\n",
    "x = car.values()#key后面定义的物品就是value\n",
    "car[\"year\"] = 2020 #某一数值的替换\n",
    "print(x)"
   ]
  },
  {
   "cell_type": "code",
   "execution_count": null,
   "metadata": {},
   "outputs": [],
   "source": [
    "#另一种替换方式\n",
    "car.update({\"color\":\"red\"})#某一项的变换 直接打key:变换的数字或者string\n",
    "print(car)"
   ]
  },
  {
   "cell_type": "code",
   "execution_count": null,
   "metadata": {},
   "outputs": [],
   "source": [
    "#remove\n",
    "thisdict = {\n",
    "    \"brand\": \"Ford\",\n",
    "    \"year\" : 2023,\n",
    "    \"model\": \"Mustang\",\n",
    "}\n",
    "\n",
    "thisdict.popitem()#会把最后一个item给去除掉（包括key） （）内不加任何东西！\n",
    "print(thisdict)"
   ]
  },
  {
   "cell_type": "code",
   "execution_count": null,
   "metadata": {},
   "outputs": [],
   "source": [
    "#remove\n",
    "thisdict = {\n",
    "    \"brand\": \"Ford\",\n",
    "    \"year\" : 2023,\n",
    "    \"model\": \"Mustang\",\n",
    "}\n",
    "\n",
    "del thisdict[\"model\"]#会把[“key”]内的一栏删除掉\n",
    "print(thisdict)"
   ]
  },
  {
   "cell_type": "code",
   "execution_count": null,
   "metadata": {},
   "outputs": [],
   "source": [
    "#remove （与上面基本一样）\n",
    "thisdict = {\n",
    "    \"brand\": \"Ford\",\n",
    "    \"year\" : 2023,\n",
    "    \"model\": \"Mustang\",\n",
    "}\n",
    "\n",
    "thisdict.pop(\"model\")#会把(“key”)内的一栏删除掉\n",
    "print(thisdict)"
   ]
  },
  {
   "cell_type": "code",
   "execution_count": null,
   "metadata": {},
   "outputs": [],
   "source": [
    "#remove \n",
    "thisdict = {\n",
    "    \"brand\": \"Ford\",\n",
    "    \"year\" : 2023,\n",
    "    \"model\": \"Mustang\",\n",
    "}\n",
    "\n",
    "thisdict.clear()#clear()内不加任何东西！ 删掉所有内容\n",
    "print(thisdict)"
   ]
  },
  {
   "cell_type": "code",
   "execution_count": null,
   "metadata": {},
   "outputs": [],
   "source": [
    "#copy dictionaries\n",
    "thisdict = {\n",
    "    \"brand\": \"Ford\",\n",
    "    \"year\" : 2023,\n",
    "    \"model\": \"Mustang\",\n",
    "}\n",
    "mydict = thisdict.copy() #复制：copy（）\n",
    "print(mydict)"
   ]
  },
  {
   "cell_type": "code",
   "execution_count": null,
   "metadata": {},
   "outputs": [],
   "source": [
    "#copy dictionaries\n",
    "thisdict = {\n",
    "    \"brand\": \"Ford\",\n",
    "    \"year\" : 2023,\n",
    "    \"model\": \"Mustang\",\n",
    "}\n",
    "mydict = dict(thisdict) #用新的mydict中用dict读取老的thisdict\n",
    "print(mydict)"
   ]
  },
  {
   "cell_type": "code",
   "execution_count": null,
   "metadata": {},
   "outputs": [],
   "source": [
    "#Nested dictionaries___嵌套字典\n",
    "myfamily = {\n",
    "    \"child1\" : {\n",
    "        \"name\" : \"Emil\",\n",
    "        \"year\" : 2004\n",
    "    },#注意逗号添加\n",
    "    \"child2\" : {\n",
    "        \"name\" : \"Tobias\",\n",
    "        \"year\" : 2007\n",
    "    },#注意逗号添加\n",
    "    \"child3\" : {\n",
    "        \"name\" : \"Henry\",\n",
    "        \"year\" : 2004\n",
    "    }\n",
    "}\n",
    "print(myfamily[\"child1\"][\"name\"])#抓取数据 （两层）"
   ]
  },
  {
   "cell_type": "code",
   "execution_count": null,
   "metadata": {},
   "outputs": [],
   "source": [
    "#function\n",
    "def my_function():\n",
    "    print(\"Hello from a function\")\n",
    "\n",
    "my_function()"
   ]
  },
  {
   "cell_type": "code",
   "execution_count": null,
   "metadata": {},
   "outputs": [],
   "source": [
    "#function的内部与外部关系 my_function()这个括号里填入的就可以是之后可以输入进function的参数！！！\n",
    "def my_function(fname,Iname):\n",
    "    print(fname+\"5\"+Iname)\n",
    "\n",
    "my_function(\"Emil\",\"Haha\")"
   ]
  },
  {
   "cell_type": "code",
   "execution_count": null,
   "metadata": {},
   "outputs": [],
   "source": [
    "#不知道参数，就在前面加星号，就可以容纳很多吗？？？？？？\n",
    "def my_function(*kids):\n",
    "    print(\"The youngest child is \"+ kids[2])#加index=2的那一个string\n",
    "\n",
    "my_function(\"Exill\", \"Tom\", \"Linus\")"
   ]
  },
  {
   "cell_type": "code",
   "execution_count": null,
   "metadata": {},
   "outputs": [],
   "source": [
    "#Arbitrary Keyword Arguments 随即关键字参数\n",
    "#底层逻辑：Key = value\n",
    "def my_function(child3, child2, child1):\n",
    "    print(\"The youngest child is \" + child3)#类似dictionary，给每一个关键字赋值\n",
    "\n",
    "my_function(child1 = \"Emil\", child2 = \"Tobias\", child3 = \"Linus\")"
   ]
  },
  {
   "cell_type": "code",
   "execution_count": null,
   "metadata": {},
   "outputs": [],
   "source": [
    "def my_function(country = \"Norway\"):#注意这里有冒号\n",
    "    print(\"I am form \" + country)\n",
    "\n",
    "my_function()"
   ]
  },
  {
   "cell_type": "code",
   "execution_count": null,
   "metadata": {},
   "outputs": [],
   "source": [
    "def my_function(country = \"Norway\"):#实际这个country后面的是可以在最后输出my_function中更改的，\n",
    "    #而在输出端，myfunction的（）里就是针对前面key（country）的一个value 而在原来定义function时候的value自然作废\n",
    "    print(\"I am form \" + country)\n",
    "\n",
    "my_function(\"China\")"
   ]
  },
  {
   "cell_type": "code",
   "execution_count": null,
   "metadata": {},
   "outputs": [],
   "source": [
    "#不知道key的数量→就用**然后加一个类似标签？→kid\n",
    "def my_function(**kid):\n",
    "    print(\"His last name is \" + kid[\"Iname\"])\n",
    "\n",
    "my_function(fname = \"Tobias\", Iname = \"Luan\")"
   ]
  },
  {
   "cell_type": "code",
   "execution_count": null,
   "metadata": {},
   "outputs": [],
   "source": [
    "#Function that return value 返回值的函数\n",
    "def my_function(x):\n",
    "    return 5 * x #用reture时参数会返回开始再一次进行调用 独立？？？\n",
    "\n",
    "print(my_function(2))\n",
    "print(my_function(6))\n",
    "print(my_function(8))"
   ]
  },
  {
   "cell_type": "code",
   "execution_count": null,
   "metadata": {},
   "outputs": [],
   "source": [
    "#File Operations\n",
    "#Sample: infile = open(\"numbers.dat\", \"r\") filevar:infile; mode:r\n",
    "#Format: <filevar> = open(<name>,<mode>)"
   ]
  },
  {
   "cell_type": "code",
   "execution_count": null,
   "metadata": {},
   "outputs": [],
   "source": [
    "#modes for opening file:\n",
    "#r:reading w:writing a:appending\n",
    "#+b:in binary format +'+':前面的某一个加上reading\n",
    "\n",
    "#file pointer at the begining of file:\n",
    "#r:(default)mode opens file for reading only\n",
    "#rb:(default)opens file for reading only in [binary format!!]\n",
    "#r+: opens file both reading & writing\n",
    "#rb+: same as above but in binary format\n",
    "\n",
    "#w: opens file for wring only [exist file: overwrite（重写）file; not exist file: creat a new file]\n",
    "#wb: same as above but in binary format\n",
    "#w+: opens file both reading & writing [exist file: overwrite（重写）file; not exist file: creat a new file]\n",
    "#wb+: 参照上面类推\n",
    "\n",
    "#file pointer at the end of file:\n",
    "#a: opens file for appending [exist file: read in apend mode; not exist file: creat a new file]\n",
    "#ab:\n",
    "#a+: appending and reading...\n",
    "#ab+:"
   ]
  },
  {
   "cell_type": "code",
   "execution_count": null,
   "metadata": {},
   "outputs": [],
   "source": [
    "#Reading\n",
    "#1.<file>.read():间所有剩余内容作为单个string返回(return)\n",
    "#2.<file>.readline():返回文件的下一行。这是直到并包括下一个换行符\\n的所有文本??\n",
    "#3.<file>.readlines(): 返回文件中剩余行的列表。每个列表项都是包含换行符的一行？？？？"
   ]
  },
  {
   "cell_type": "code",
   "execution_count": null,
   "metadata": {},
   "outputs": [],
   "source": [
    "#reading complete file\n",
    "f = open(\"<doc name>\", \"r\")\n",
    "print(f.read())"
   ]
  },
  {
   "cell_type": "code",
   "execution_count": null,
   "metadata": {},
   "outputs": [],
   "source": [
    "#reading lines\n",
    "f = open(\"Lec5 test.txt\", \"r\")\n",
    "print(f.read(5)) #read line 5"
   ]
  },
  {
   "cell_type": "code",
   "execution_count": null,
   "metadata": {},
   "outputs": [],
   "source": [
    "#looping through lines 行间循环\n",
    "f = open(\"Lec5 test.txt\", \"r\")\n",
    "for line in readlines():\n",
    "    #line processing in [readlines]\n",
    "\n",
    "f.close()"
   ]
  },
  {
   "cell_type": "code",
   "execution_count": null,
   "metadata": {},
   "outputs": [],
   "source": [
    "f = open(\"Lec5 test.txt\", \"r\")\n",
    "for line in infile():#????????\n",
    "    #line processing in [infile]\n",
    "\n",
    "f.close()"
   ]
  },
  {
   "cell_type": "code",
   "execution_count": null,
   "metadata": {},
   "outputs": [],
   "source": [
    "#file appending 写入的内容会替换掉 重新写入\n",
    "f = open(\"Lec5 test.txt\", \"a\")\n",
    "f.write(\"Now the file has more content\")\n",
    "f.close()\n",
    "\n",
    "#open and read file after appending\n",
    "f = open(\"Lec5 test.txt\", \"r\")\n",
    "print(f.read())"
   ]
  },
  {
   "cell_type": "code",
   "execution_count": null,
   "metadata": {},
   "outputs": [],
   "source": [
    "f = open(\"Lec5 test.txt\", \"w\")\n",
    "f.write(\"Now the file has more more content\")\n",
    "f.()\n",
    "\n",
    "#open and read file after appending\n",
    "f = open(\"Lec5 test.txt\", \"r\")\n",
    "print(f.read())"
   ]
  },
  {
   "cell_type": "code",
   "execution_count": null,
   "metadata": {},
   "outputs": [],
   "source": [
    "#buffer?????缓冲区"
   ]
  },
  {
   "cell_type": "code",
   "execution_count": null,
   "metadata": {},
   "outputs": [],
   "source": [
    "#两种读取方式\n",
    "import csv #read csv file前需要import csv 第一行读的很奇怪？？？？？\n",
    "f = open(\"Lec5 test.csv\", \"r\")\n",
    "data = csv.reader(f) #reader就是读取\n",
    "for line in data:\n",
    "\t\tprint(line)\n",
    "f.close()\n"
   ]
  },
  {
   "cell_type": "code",
   "execution_count": null,
   "metadata": {},
   "outputs": [],
   "source": [
    "import csv\n",
    "f = open(\"Lec5 test.csv\", \"r\")\n",
    "for line in f:\n",
    "\t\tprint(line, end='')\n",
    "f.close()\n"
   ]
  },
  {
   "cell_type": "code",
   "execution_count": null,
   "metadata": {},
   "outputs": [],
   "source": []
  }
 ],
 "metadata": {
  "kernelspec": {
   "display_name": "base",
   "language": "python",
   "name": "python3"
  },
  "language_info": {
   "codemirror_mode": {
    "name": "ipython",
    "version": 3
   },
   "file_extension": ".py",
   "mimetype": "text/x-python",
   "name": "python",
   "nbconvert_exporter": "python",
   "pygments_lexer": "ipython3",
   "version": "3.9.12"
  },
  "orig_nbformat": 4,
  "vscode": {
   "interpreter": {
    "hash": "4fd21e5d16607d7f096f56b8e48736505fb95b986675dce0ace8f758cf56716e"
   }
  }
 },
 "nbformat": 4,
 "nbformat_minor": 2
}
